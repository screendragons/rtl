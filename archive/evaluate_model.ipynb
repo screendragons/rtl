{
 "cells": [
  {
   "cell_type": "code",
   "execution_count": 1,
   "metadata": {},
   "outputs": [],
   "source": [
    "import re\n",
    "import numpy as np \n",
    "import matplotlib.pyplot as plt \n",
    "import whisper\n",
    "import os\n",
    "import pandas as pd\n",
    "from Ort import Ort\n",
    "from AudioFile import AudioFile"
   ]
  },
  {
   "cell_type": "code",
   "execution_count": 2,
   "metadata": {},
   "outputs": [],
   "source": [
    "# Set the path to the audio files located in the files/recordings folder\n",
    "AUDIO_FILES_PATH = os.getcwd() + \"/files/recordings/\"\n",
    "\n",
    "# Metadata file path\n",
    "METADATA_FILE_PATH = os.getcwd() + \"/files/metadata/recordings_NL.txt\"\n",
    "\n",
    "# The path to the ORT files containing the transcriptions\n",
    "ORT_TRANSCRIPTIONS_PATH = os.getcwd() + \"/files/transcriptions/\""
   ]
  },
  {
   "cell_type": "code",
   "execution_count": 3,
   "metadata": {},
   "outputs": [
    {
     "name": "stdout",
     "output_type": "stream",
     "text": [
      "File not found: /Users/hannatoenbreker/AAI/RTL-project/rtl/files/recordings/fn000106.wav. Skipping...\n",
      "File not found: /Users/hannatoenbreker/AAI/RTL-project/rtl/files/recordings/fn000139.wav. Skipping...\n",
      "File not found: /Users/hannatoenbreker/AAI/RTL-project/rtl/files/recordings/fn000147.wav. Skipping...\n",
      "File not found: /Users/hannatoenbreker/AAI/RTL-project/rtl/files/recordings/fn000153.wav. Skipping...\n",
      "File not found: /Users/hannatoenbreker/AAI/RTL-project/rtl/files/recordings/fn000155.wav. Skipping...\n",
      "File not found: /Users/hannatoenbreker/AAI/RTL-project/rtl/files/recordings/fn000157.wav. Skipping...\n",
      "File not found: /Users/hannatoenbreker/AAI/RTL-project/rtl/files/recordings/fn000377.wav. Skipping...\n",
      "File not found: /Users/hannatoenbreker/AAI/RTL-project/rtl/files/recordings/fn000381.wav. Skipping...\n",
      "File not found: /Users/hannatoenbreker/AAI/RTL-project/rtl/files/recordings/fn000384.wav. Skipping...\n",
      "File not found: /Users/hannatoenbreker/AAI/RTL-project/rtl/files/recordings/fn000561.wav. Skipping...\n",
      "File not found: /Users/hannatoenbreker/AAI/RTL-project/rtl/files/recordings/fn000579.wav. Skipping...\n",
      "File not found: /Users/hannatoenbreker/AAI/RTL-project/rtl/files/recordings/fn000585.wav. Skipping...\n",
      "File not found: /Users/hannatoenbreker/AAI/RTL-project/rtl/files/recordings/fn000588.wav. Skipping...\n",
      "File not found: /Users/hannatoenbreker/AAI/RTL-project/rtl/files/recordings/fn000594.wav. Skipping...\n",
      "File not found: /Users/hannatoenbreker/AAI/RTL-project/rtl/files/recordings/fn000603.wav. Skipping...\n",
      "File not found: /Users/hannatoenbreker/AAI/RTL-project/rtl/files/recordings/fn000606.wav. Skipping...\n",
      "File not found: /Users/hannatoenbreker/AAI/RTL-project/rtl/files/recordings/fn000609.wav. Skipping...\n",
      "File not found: /Users/hannatoenbreker/AAI/RTL-project/rtl/files/recordings/fn000612.wav. Skipping...\n",
      "File not found: /Users/hannatoenbreker/AAI/RTL-project/rtl/files/recordings/fn000615.wav. Skipping...\n",
      "File not found: /Users/hannatoenbreker/AAI/RTL-project/rtl/files/recordings/fn000619.wav. Skipping...\n",
      "File not found: /Users/hannatoenbreker/AAI/RTL-project/rtl/files/recordings/fn000622.wav. Skipping...\n",
      "File not found: /Users/hannatoenbreker/AAI/RTL-project/rtl/files/recordings/fn000625.wav. Skipping...\n",
      "File not found: /Users/hannatoenbreker/AAI/RTL-project/rtl/files/recordings/fn000628.wav. Skipping...\n",
      "File not found: /Users/hannatoenbreker/AAI/RTL-project/rtl/files/recordings/fn000631.wav. Skipping...\n",
      "File not found: /Users/hannatoenbreker/AAI/RTL-project/rtl/files/recordings/fn000634.wav. Skipping...\n",
      "File not found: /Users/hannatoenbreker/AAI/RTL-project/rtl/files/recordings/fn000637.wav. Skipping...\n",
      "File not found: /Users/hannatoenbreker/AAI/RTL-project/rtl/files/recordings/fn000639.wav. Skipping...\n",
      "File not found: /Users/hannatoenbreker/AAI/RTL-project/rtl/files/recordings/fn000641.wav. Skipping...\n",
      "File not found: /Users/hannatoenbreker/AAI/RTL-project/rtl/files/recordings/fn000643.wav. Skipping...\n",
      "File not found: /Users/hannatoenbreker/AAI/RTL-project/rtl/files/recordings/fn000645.wav. Skipping...\n",
      "File not found: /Users/hannatoenbreker/AAI/RTL-project/rtl/files/recordings/fn000649.wav. Skipping...\n",
      "File not found: /Users/hannatoenbreker/AAI/RTL-project/rtl/files/recordings/fn000651.wav. Skipping...\n",
      "File not found: /Users/hannatoenbreker/AAI/RTL-project/rtl/files/recordings/fn000655.wav. Skipping...\n",
      "File not found: /Users/hannatoenbreker/AAI/RTL-project/rtl/files/recordings/fn000657.wav. Skipping...\n",
      "File not found: /Users/hannatoenbreker/AAI/RTL-project/rtl/files/recordings/fn000659.wav. Skipping...\n",
      "File not found: /Users/hannatoenbreker/AAI/RTL-project/rtl/files/recordings/fn000661.wav. Skipping...\n",
      "File not found: /Users/hannatoenbreker/AAI/RTL-project/rtl/files/recordings/fn000663.wav. Skipping...\n",
      "File not found: /Users/hannatoenbreker/AAI/RTL-project/rtl/files/recordings/fn000667.wav. Skipping...\n",
      "File not found: /Users/hannatoenbreker/AAI/RTL-project/rtl/files/recordings/fn000669.wav. Skipping...\n",
      "File not found: /Users/hannatoenbreker/AAI/RTL-project/rtl/files/recordings/fn000673.wav. Skipping...\n",
      "File not found: /Users/hannatoenbreker/AAI/RTL-project/rtl/files/recordings/fn000675.wav. Skipping...\n",
      "File not found: /Users/hannatoenbreker/AAI/RTL-project/rtl/files/recordings/fn000696.wav. Skipping...\n",
      "File not found: /Users/hannatoenbreker/AAI/RTL-project/rtl/files/recordings/fn000698.wav. Skipping...\n",
      "File not found: /Users/hannatoenbreker/AAI/RTL-project/rtl/files/recordings/fn000700.wav. Skipping...\n",
      "File not found: /Users/hannatoenbreker/AAI/RTL-project/rtl/files/recordings/fn000702.wav. Skipping...\n",
      "File not found: /Users/hannatoenbreker/AAI/RTL-project/rtl/files/recordings/fn000704.wav. Skipping...\n",
      "File not found: /Users/hannatoenbreker/AAI/RTL-project/rtl/files/recordings/fn000706.wav. Skipping...\n",
      "File not found: /Users/hannatoenbreker/AAI/RTL-project/rtl/files/recordings/fn000708.wav. Skipping...\n",
      "File not found: /Users/hannatoenbreker/AAI/RTL-project/rtl/files/recordings/fn000710.wav. Skipping...\n",
      "File not found: /Users/hannatoenbreker/AAI/RTL-project/rtl/files/recordings/fn000715.wav. Skipping...\n",
      "File not found: /Users/hannatoenbreker/AAI/RTL-project/rtl/files/recordings/fn000718.wav. Skipping...\n",
      "File not found: /Users/hannatoenbreker/AAI/RTL-project/rtl/files/recordings/fn000722.wav. Skipping...\n",
      "File not found: /Users/hannatoenbreker/AAI/RTL-project/rtl/files/recordings/fn000726.wav. Skipping...\n",
      "File not found: /Users/hannatoenbreker/AAI/RTL-project/rtl/files/recordings/fn000728.wav. Skipping...\n",
      "File not found: /Users/hannatoenbreker/AAI/RTL-project/rtl/files/recordings/fn000730.wav. Skipping...\n",
      "File not found: /Users/hannatoenbreker/AAI/RTL-project/rtl/files/recordings/fn000732.wav. Skipping...\n",
      "File not found: /Users/hannatoenbreker/AAI/RTL-project/rtl/files/recordings/fn000734.wav. Skipping...\n",
      "File not found: /Users/hannatoenbreker/AAI/RTL-project/rtl/files/recordings/fn000736.wav. Skipping...\n",
      "File not found: /Users/hannatoenbreker/AAI/RTL-project/rtl/files/recordings/fn000738.wav. Skipping...\n",
      "File not found: /Users/hannatoenbreker/AAI/RTL-project/rtl/files/recordings/fn000740.wav. Skipping...\n",
      "File not found: /Users/hannatoenbreker/AAI/RTL-project/rtl/files/recordings/fn000745.wav. Skipping...\n",
      "File not found: /Users/hannatoenbreker/AAI/RTL-project/rtl/files/recordings/fn000747.wav. Skipping...\n",
      "File not found: /Users/hannatoenbreker/AAI/RTL-project/rtl/files/recordings/fn000752.wav. Skipping...\n",
      "File not found: /Users/hannatoenbreker/AAI/RTL-project/rtl/files/recordings/fn000754.wav. Skipping...\n",
      "File not found: /Users/hannatoenbreker/AAI/RTL-project/rtl/files/recordings/fn000756.wav. Skipping...\n",
      "File not found: /Users/hannatoenbreker/AAI/RTL-project/rtl/files/recordings/fn000758.wav. Skipping...\n",
      "File not found: /Users/hannatoenbreker/AAI/RTL-project/rtl/files/recordings/fn000760.wav. Skipping...\n",
      "File not found: /Users/hannatoenbreker/AAI/RTL-project/rtl/files/recordings/fn000762.wav. Skipping...\n",
      "File not found: /Users/hannatoenbreker/AAI/RTL-project/rtl/files/recordings/fn000764.wav. Skipping...\n",
      "File not found: /Users/hannatoenbreker/AAI/RTL-project/rtl/files/recordings/fn000768.wav. Skipping...\n",
      "File not found: /Users/hannatoenbreker/AAI/RTL-project/rtl/files/recordings/fn000771.wav. Skipping...\n",
      "File not found: /Users/hannatoenbreker/AAI/RTL-project/rtl/files/recordings/fn000773.wav. Skipping...\n",
      "File not found: /Users/hannatoenbreker/AAI/RTL-project/rtl/files/recordings/fn000775.wav. Skipping...\n",
      "File not found: /Users/hannatoenbreker/AAI/RTL-project/rtl/files/recordings/fn000777.wav. Skipping...\n",
      "File not found: /Users/hannatoenbreker/AAI/RTL-project/rtl/files/recordings/fn000779.wav. Skipping...\n",
      "File not found: /Users/hannatoenbreker/AAI/RTL-project/rtl/files/recordings/fn000784.wav. Skipping...\n",
      "File not found: /Users/hannatoenbreker/AAI/RTL-project/rtl/files/recordings/fn000789.wav. Skipping...\n",
      "File not found: /Users/hannatoenbreker/AAI/RTL-project/rtl/files/recordings/fn000791.wav. Skipping...\n",
      "File not found: /Users/hannatoenbreker/AAI/RTL-project/rtl/files/recordings/fn000793.wav. Skipping...\n",
      "File not found: /Users/hannatoenbreker/AAI/RTL-project/rtl/files/recordings/fn000797.wav. Skipping...\n",
      "File not found: /Users/hannatoenbreker/AAI/RTL-project/rtl/files/recordings/fn000799.wav. Skipping...\n",
      "File not found: /Users/hannatoenbreker/AAI/RTL-project/rtl/files/recordings/fn000801.wav. Skipping...\n",
      "File not found: /Users/hannatoenbreker/AAI/RTL-project/rtl/files/recordings/fn000803.wav. Skipping...\n",
      "File not found: /Users/hannatoenbreker/AAI/RTL-project/rtl/files/recordings/fn000807.wav. Skipping...\n",
      "File not found: /Users/hannatoenbreker/AAI/RTL-project/rtl/files/recordings/fn000809.wav. Skipping...\n",
      "File not found: /Users/hannatoenbreker/AAI/RTL-project/rtl/files/recordings/fn000811.wav. Skipping...\n",
      "File not found: /Users/hannatoenbreker/AAI/RTL-project/rtl/files/recordings/fn000813.wav. Skipping...\n",
      "File not found: /Users/hannatoenbreker/AAI/RTL-project/rtl/files/recordings/fn000815.wav. Skipping...\n",
      "File not found: /Users/hannatoenbreker/AAI/RTL-project/rtl/files/recordings/fn000817.wav. Skipping...\n",
      "File not found: /Users/hannatoenbreker/AAI/RTL-project/rtl/files/recordings/fn000819.wav. Skipping...\n",
      "File not found: /Users/hannatoenbreker/AAI/RTL-project/rtl/files/recordings/fn000821.wav. Skipping...\n",
      "there are 2 audio files present.\n"
     ]
    }
   ],
   "source": [
    "# Get the audio files for the DT subgroup (Native teenagers between 12 and 16 years old)\n",
    "audio_files = AudioFile.get_audio_files_by_subgroup(METADATA_FILE_PATH, AUDIO_FILES_PATH, component=\"comp-q\", subgroup=\"DT\")\n",
    "\n",
    "print(\"there are \" + str(len(audio_files)) + \" audio files present.\")\n"
   ]
  },
  {
   "cell_type": "code",
   "execution_count": 4,
   "metadata": {},
   "outputs": [],
   "source": [
    "# Create the method for running the model\n",
    "def run_model(audio_file_path):\n",
    "    print(\"Transcribing \" + audio_file_path)\n",
    "    model = whisper.load_model(\"tiny\")\n",
    "    return model.transcribe(audio_file_path, fp16=False)"
   ]
  },
  {
   "cell_type": "code",
   "execution_count": 5,
   "metadata": {},
   "outputs": [
    {
     "name": "stdout",
     "output_type": "stream",
     "text": [
      "Transcribing /Users/hannatoenbreker/AAI/RTL-project/rtl/files/recordings/fn000096.wav\n",
      "Transcribing /Users/hannatoenbreker/AAI/RTL-project/rtl/files/recordings/fn000098.wav\n"
     ]
    }
   ],
   "source": [
    "results = {}\n",
    "\n",
    "# Run the model on all audio files\n",
    "for audio_file in audio_files:\n",
    "    # Get the file name without the extension so we can find the corresponding ORT file\n",
    "    file_name = os.path.splitext(os.path.basename(audio_file))[0]\n",
    "    \n",
    "    # Run the model on the audio file\n",
    "    result = run_model(audio_file)\n",
    "\n",
    "    # append the result to the results dictionary with the file name as key\n",
    "    results[file_name] = result"
   ]
  },
  {
   "cell_type": "code",
   "execution_count": 10,
   "metadata": {},
   "outputs": [],
   "source": [
    "from datasets import load_metric\n",
    "import string\n",
    "\n",
    "class results_gradio:\n",
    "    def error_rate():\n",
    "        wer = load_metric(\"wer\")\n",
    "        cer = load_metric(\"cer\")\n",
    "\n",
    "        # Calculate the WER and CER for the results\n",
    "        wer_results = []\n",
    "        cer_results = []\n",
    "\n",
    "        # Loop trough the results dictionary\n",
    "        for result in results.items():\n",
    "            # Set magic numbers\n",
    "            FILE_NAME_INDEX = 0\n",
    "            TRANSCRIPTION_INDEX = 1\n",
    "\n",
    "            # Get the path to the ORT file\n",
    "            ort_file_path = os.getcwd() + \"/files/transcriptions/\" + result[FILE_NAME_INDEX] + \".ort\"\n",
    "\n",
    "            # Converting the ort transcription to a string and transform it to lowercase\n",
    "            target = [(Ort.to_string(ort_file_path)).lower()]\n",
    "\n",
    "            # Define the prediction, convert it to lowercase and remove punctuation\n",
    "            prediction = [result[TRANSCRIPTION_INDEX]['text'].lower().translate(str.maketrans(\"\", \"\", string.punctuation))]\n",
    "\n",
    "            # compute metrics\n",
    "            wer_result = wer.compute(references=target, predictions=prediction)\n",
    "            cer_result = cer.compute(references=target, predictions=prediction)\n",
    "\n",
    "            wer_results.append(wer_result)\n",
    "            cer_results.append(cer_result)\n",
    "\n",
    "        return {'wer': np.mean(wer_results), 'cer': np.mean(cer_results)}\n",
    "\n"
   ]
  },
  {
   "cell_type": "code",
   "execution_count": 7,
   "metadata": {},
   "outputs": [
    {
     "ename": "NameError",
     "evalue": "name 'wer_results' is not defined",
     "output_type": "error",
     "traceback": [
      "\u001b[0;31m---------------------------------------------------------------------------\u001b[0m",
      "\u001b[0;31mNameError\u001b[0m                                 Traceback (most recent call last)",
      "Cell \u001b[0;32mIn[7], line 1\u001b[0m\n\u001b[0;32m----> 1\u001b[0m \u001b[39mprint\u001b[39m(\u001b[39m\"\u001b[39m\u001b[39mGemiddelde WER: \u001b[39m\u001b[39m\"\u001b[39m \u001b[39m+\u001b[39m \u001b[39mstr\u001b[39m(np\u001b[39m.\u001b[39mmean(wer_results)))\n\u001b[1;32m      2\u001b[0m \u001b[39mprint\u001b[39m(\u001b[39m\"\u001b[39m\u001b[39mGemiddelde CER: \u001b[39m\u001b[39m\"\u001b[39m \u001b[39m+\u001b[39m \u001b[39mstr\u001b[39m(np\u001b[39m.\u001b[39mmean(cer_results)))\n",
      "\u001b[0;31mNameError\u001b[0m: name 'wer_results' is not defined"
     ]
    }
   ],
   "source": [
    "print(\"Gemiddelde WER: \" + str(np.mean(wer_results)))\n",
    "print(\"Gemiddelde CER: \" + str(np.mean(cer_results)))"
   ]
  }
 ],
 "metadata": {
  "kernelspec": {
   "display_name": "bootcamp",
   "language": "python",
   "name": "python3"
  },
  "language_info": {
   "codemirror_mode": {
    "name": "ipython",
    "version": 3
   },
   "file_extension": ".py",
   "mimetype": "text/x-python",
   "name": "python",
   "nbconvert_exporter": "python",
   "pygments_lexer": "ipython3",
   "version": "3.10.0"
  },
  "orig_nbformat": 4
 },
 "nbformat": 4,
 "nbformat_minor": 2
}
