{
 "cells": [
  {
   "cell_type": "code",
   "execution_count": 1,
   "metadata": {},
   "outputs": [
    {
     "name": "stdout",
     "output_type": "stream",
     "text": [
      "ja.nog een dag over vier ...of vierdan is Jan zes jaar.ik geef iets zegt Lies.dat weet Jan wel.een bal of een beer.een pen of een of een boek.of een vis in een kom.wat een lijst roept Lies.ik kies je wel iets.ik kies wel iets.het stopt in de doos zegt ze.nu is het feest.Jan is zes jaar. hij heeft een kroon.er staat ...er staat taart en snoep.Lies geeft de doos aan Jan.pen of geen boek.maar een kom voor een vis.zes jaar is eris heel fijn.Pil.zegt Wil.ik ben hier Wil zegt Bil.ik hoor het Bil zegt Wil.je hoort dat je hier bent.ik zie je je niet maar ik hoor je wel.dat weetBil zegt Wil.nou zegt Bil.hier is hier is.we zijn... we zijn Wil.ik weet niet waar wewaar hier is.ik weet niet waar we zijn.de weg naar huis is weg.weet Bil heuslet op. eenen lees hoe dat is zit.Bil was in het huis.Wil ook.Bil zatbij het raam.Wil las een boek.toen zei Bilde zon schijnt wat fijn weer.ik wil niet inik wil niet in huis zijn.ik wil de deur uit.doen we Bil zei Wil.we gaan de deur uit en de zon in.kom mee dan gaan we.zei Bil.jas en pet op.en de tuin door.we ga op weg af.de weg op en af.en wei in de wei weer uit.enweer een weg op.Bil liepen Wil liep met hem mee.kijk daar een bos zei Bil.daar gaan we in.gaan we nietzei Bil.nee hoor Bil.loop maarmaar door.het bos was diep.Bil liep en liep.en BilWil liep mee.eneen beuk en dandan een eik.diep diepen toen was het laat.heel laat.de zon was weg.dag was...de dag was om.het was geen fijne weer meer.het was kil en guur.weer voor een soepmet een met een boeker viel een bui.er scheen een maan.en geen boom meer te zien.geen beuk.geen den.geen eik.Wil niet meer zien.en wil zag Bil niet meer.TextTierBACKGROUNDTextTierCOMMENTS\n"
     ]
    }
   ],
   "source": [
    "import re\n",
    "\n",
    "with open(\"fn000151.ort\", \"r\") as f:\n",
    "    filtered_lines = []\n",
    "    for line in f:\n",
    "        if re.search(r'\"[a-zA-Z0-9\\.\\s]*\"', line):\n",
    "            filtered_lines.append(line.strip())\n",
    "\n",
    "    # Remove the first 6 lines\n",
    "    filtered_lines = filtered_lines[6:]\n",
    "\n",
    "    all_text = \"\"\n",
    "\n",
    "    # Print the filtered text\n",
    "    for line in filtered_lines:\n",
    "        all_text += line\n",
    "\n",
    "    # Remove all double quotes from the text\n",
    "    all_text = all_text.replace('\"', '')\n",
    "\n",
    "    print(all_text)"
   ]
  },
  {
   "cell_type": "code",
   "execution_count": 2,
   "metadata": {},
   "outputs": [],
   "source": [
    "import whisper\n",
    "import os"
   ]
  },
  {
   "cell_type": "code",
   "execution_count": 3,
   "metadata": {},
   "outputs": [],
   "source": [
    "def run_model(model_name):\n",
    "    model = whisper.load_model(model_name)\n",
    "    audiofile = os.getcwd() + \"\\\\fn000151.wav\"\n",
    "    return model.transcribe(audiofile, fp16=False)"
   ]
  },
  {
   "cell_type": "code",
   "execution_count": 4,
   "metadata": {},
   "outputs": [],
   "source": [
    "from datasets import Audio, Dataset, load_dataset, load_metric\n",
    "\n",
    "def evaluate(result):\n",
    "    target = [all_text]\n",
    "    prediction = [result['text']]\n",
    "\n",
    "    # load metric\n",
    "    wer = load_metric(\"wer\")\n",
    "    cer = load_metric(\"cer\")\n",
    "\n",
    "    # compute metrics\n",
    "    wer_result = wer.compute(references=target, predictions=prediction)\n",
    "    cer_result = cer.compute(references=target, predictions=prediction)\n",
    "\n",
    "    print(wer_result)\n",
    "    print(cer_result)"
   ]
  },
  {
   "cell_type": "code",
   "execution_count": 5,
   "metadata": {},
   "outputs": [
    {
     "name": "stderr",
     "output_type": "stream",
     "text": [
      "c:\\projects\\ai\\environments\\bootcamp\\lib\\site-packages\\whisper\\__init__.py:63: UserWarning: C:\\Users\\Gebruiker\\.cache\\whisper\\tiny.pt exists, but the SHA256 checksum does not match; re-downloading the file\n",
      "  warnings.warn(\n",
      "100%|█████████████████████████████████████| 72.1M/72.1M [00:01<00:00, 49.3MiB/s]\n",
      "C:\\Users\\Gebruiker\\AppData\\Local\\Temp\\ipykernel_284\\4162547085.py:8: FutureWarning: load_metric is deprecated and will be removed in the next major version of datasets. Use 'evaluate.load' instead, from the new library 🤗 Evaluate: https://huggingface.co/docs/evaluate\n",
      "  wer = load_metric(\"wer\")\n"
     ]
    },
    {
     "name": "stdout",
     "output_type": "stream",
     "text": [
      "1.119205298013245\n",
      "0.5255562236921226\n",
      "1.0894039735099337\n",
      "0.4834636199639206\n"
     ]
    },
    {
     "name": "stderr",
     "output_type": "stream",
     "text": [
      " 77%|█████████████████████████████▎        | 356M/461M [1:00:31<17:51, 103kiB/s]\n"
     ]
    },
    {
     "ename": "RuntimeError",
     "evalue": "Model has been downloaded but the SHA256 checksum does not not match. Please retry loading the model.",
     "output_type": "error",
     "traceback": [
      "\u001b[1;31m---------------------------------------------------------------------------\u001b[0m",
      "\u001b[1;31mRuntimeError\u001b[0m                              Traceback (most recent call last)",
      "Cell \u001b[1;32mIn[5], line 3\u001b[0m\n\u001b[0;32m      1\u001b[0m evaluate(run_model(\u001b[39m\"\u001b[39m\u001b[39mtiny\u001b[39m\u001b[39m\"\u001b[39m))\n\u001b[0;32m      2\u001b[0m evaluate(run_model(\u001b[39m\"\u001b[39m\u001b[39mbase\u001b[39m\u001b[39m\"\u001b[39m))\n\u001b[1;32m----> 3\u001b[0m evaluate(run_model(\u001b[39m\"\u001b[39;49m\u001b[39msmall\u001b[39;49m\u001b[39m\"\u001b[39;49m))\n\u001b[0;32m      4\u001b[0m evaluate(run_model(\u001b[39m\"\u001b[39m\u001b[39mmedium\u001b[39m\u001b[39m\"\u001b[39m))\n\u001b[0;32m      5\u001b[0m evaluate(run_model(\u001b[39m\"\u001b[39m\u001b[39mlarge\u001b[39m\u001b[39m\"\u001b[39m))\n",
      "Cell \u001b[1;32mIn[3], line 2\u001b[0m, in \u001b[0;36mrun_model\u001b[1;34m(model_name)\u001b[0m\n\u001b[0;32m      1\u001b[0m \u001b[39mdef\u001b[39;00m \u001b[39mrun_model\u001b[39m(model_name):\n\u001b[1;32m----> 2\u001b[0m     model \u001b[39m=\u001b[39m whisper\u001b[39m.\u001b[39;49mload_model(model_name)\n\u001b[0;32m      3\u001b[0m     audiofile \u001b[39m=\u001b[39m os\u001b[39m.\u001b[39mgetcwd() \u001b[39m+\u001b[39m \u001b[39m\"\u001b[39m\u001b[39m\\\\\u001b[39;00m\u001b[39mfn000151.wav\u001b[39m\u001b[39m\"\u001b[39m\n\u001b[0;32m      4\u001b[0m     \u001b[39mreturn\u001b[39;00m model\u001b[39m.\u001b[39mtranscribe(audiofile, fp16\u001b[39m=\u001b[39m\u001b[39mFalse\u001b[39;00m)\n",
      "File \u001b[1;32mc:\\projects\\ai\\environments\\bootcamp\\lib\\site-packages\\whisper\\__init__.py:131\u001b[0m, in \u001b[0;36mload_model\u001b[1;34m(name, device, download_root, in_memory)\u001b[0m\n\u001b[0;32m    128\u001b[0m     download_root \u001b[39m=\u001b[39m os\u001b[39m.\u001b[39mpath\u001b[39m.\u001b[39mjoin(os\u001b[39m.\u001b[39mgetenv(\u001b[39m\"\u001b[39m\u001b[39mXDG_CACHE_HOME\u001b[39m\u001b[39m\"\u001b[39m, default), \u001b[39m\"\u001b[39m\u001b[39mwhisper\u001b[39m\u001b[39m\"\u001b[39m)\n\u001b[0;32m    130\u001b[0m \u001b[39mif\u001b[39;00m name \u001b[39min\u001b[39;00m _MODELS:\n\u001b[1;32m--> 131\u001b[0m     checkpoint_file \u001b[39m=\u001b[39m _download(_MODELS[name], download_root, in_memory)\n\u001b[0;32m    132\u001b[0m     alignment_heads \u001b[39m=\u001b[39m _ALIGNMENT_HEADS[name]\n\u001b[0;32m    133\u001b[0m \u001b[39melif\u001b[39;00m os\u001b[39m.\u001b[39mpath\u001b[39m.\u001b[39misfile(name):\n",
      "File \u001b[1;32mc:\\projects\\ai\\environments\\bootcamp\\lib\\site-packages\\whisper\\__init__.py:85\u001b[0m, in \u001b[0;36m_download\u001b[1;34m(url, root, in_memory)\u001b[0m\n\u001b[0;32m     83\u001b[0m model_bytes \u001b[39m=\u001b[39m \u001b[39mopen\u001b[39m(download_target, \u001b[39m\"\u001b[39m\u001b[39mrb\u001b[39m\u001b[39m\"\u001b[39m)\u001b[39m.\u001b[39mread()\n\u001b[0;32m     84\u001b[0m \u001b[39mif\u001b[39;00m hashlib\u001b[39m.\u001b[39msha256(model_bytes)\u001b[39m.\u001b[39mhexdigest() \u001b[39m!=\u001b[39m expected_sha256:\n\u001b[1;32m---> 85\u001b[0m     \u001b[39mraise\u001b[39;00m \u001b[39mRuntimeError\u001b[39;00m(\n\u001b[0;32m     86\u001b[0m         \u001b[39m\"\u001b[39m\u001b[39mModel has been downloaded but the SHA256 checksum does not not match. Please retry loading the model.\u001b[39m\u001b[39m\"\u001b[39m\n\u001b[0;32m     87\u001b[0m     )\n\u001b[0;32m     89\u001b[0m \u001b[39mreturn\u001b[39;00m model_bytes \u001b[39mif\u001b[39;00m in_memory \u001b[39melse\u001b[39;00m download_target\n",
      "\u001b[1;31mRuntimeError\u001b[0m: Model has been downloaded but the SHA256 checksum does not not match. Please retry loading the model."
     ]
    }
   ],
   "source": [
    "evaluate(run_model(\"tiny\"))\n",
    "evaluate(run_model(\"base\"))\n",
    "evaluate(run_model(\"small\"))\n",
    "evaluate(run_model(\"medium\"))\n",
    "evaluate(run_model(\"large\"))"
   ]
  }
 ],
 "metadata": {
  "kernelspec": {
   "display_name": "Python 3 (ipykernel)",
   "language": "python",
   "name": "python3"
  },
  "language_info": {
   "codemirror_mode": {
    "name": "ipython",
    "version": 3
   },
   "file_extension": ".py",
   "mimetype": "text/x-python",
   "name": "python",
   "nbconvert_exporter": "python",
   "pygments_lexer": "ipython3",
   "version": "3.10.9"
  }
 },
 "nbformat": 4,
 "nbformat_minor": 2
}
